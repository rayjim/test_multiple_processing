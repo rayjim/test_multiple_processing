{
 "cells": [
  {
   "cell_type": "code",
   "execution_count": 7,
   "metadata": {
    "collapsed": false
   },
   "outputs": [
    {
     "name": "stdout",
     "output_type": "stream",
     "text": [
      "4288 is working\n",
      "4290 is working\n",
      "4289 is working\n",
      "finished\n"
     ]
    }
   ],
   "source": [
    "import random, os\n",
    "import multiprocessing\n",
    "\n",
    "def list_append(count, out_list):\n",
    "    print os.getpid(), 'is working'\n",
    "    for i in range(count):\n",
    "        out_list.append(random.random())\n",
    "    return out_list\n",
    "\n",
    "size = 1000000\n",
    "procs = 3\n",
    "process_list = []\n",
    "result = []\n",
    "\n",
    "for i in range(0, procs):\n",
    "    out_list = list()\n",
    "    process = multiprocessing.Process(target=list_append, args=(size, out_list))\n",
    "    process_list.append(process)\n",
    "    \n",
    "for p in process_list:\n",
    "    p.start()\n",
    "\n",
    "for p in process_list:\n",
    "    p.join()\n",
    "    \n",
    "print \"finished\"\n",
    "                                "
   ]
  },
  {
   "cell_type": "code",
   "execution_count": 9,
   "metadata": {
    "collapsed": false
   },
   "outputs": [
    {
     "name": "stdout",
     "output_type": "stream",
     "text": [
      "first 2.00100517273\n",
      "working on else\n",
      "working on else\n",
      "working on else\n",
      "working on else\n",
      "2.00096201897\n"
     ]
    }
   ],
   "source": [
    "import time\n",
    "from multiprocessing import Pool\n",
    "\n",
    "def f():\n",
    "    start = time.time()\n",
    "    time.sleep(2)\n",
    "    end = time.time()\n",
    "    return end - start\n",
    "p = Pool(processes=1)\n",
    "\n",
    "result = p.apply(f)\n",
    "print \"first\",result\n",
    "\n",
    "\n",
    "result = p.apply_async(f)\n",
    "while not result.ready():\n",
    "    time.sleep(0.5)\n",
    "    print 'working on else'\n",
    "\n",
    "print result.get() "
   ]
  },
  {
   "cell_type": "code",
   "execution_count": 17,
   "metadata": {
    "collapsed": false
   },
   "outputs": [
    {
     "name": "stdout",
     "output_type": "stream",
     "text": [
      "map blocks\n",
      "time 4.05802488327\n",
      "[0, 1, 8]\n"
     ]
    }
   ],
   "source": [
    "import time\n",
    "from multiprocessing import Pool\n",
    "\n",
    "def f(x):\n",
    "    return x**3\n",
    "\n",
    "y = range(int(1e7))\n",
    "\n",
    "p = Pool(processes=4)\n",
    "\n",
    "start = time.time()\n",
    "results = p.map(f, y)\n",
    "end = time.time()\n",
    "print \"map blocks\"\n",
    "print \"time\", end-start\n",
    "print results[:3]"
   ]
  },
  {
   "cell_type": "code",
   "execution_count": 18,
   "metadata": {
    "collapsed": false
   },
   "outputs": [
    {
     "name": "stdout",
     "output_type": "stream",
     "text": [
      "map_async\n",
      "time 0.159600973129\n",
      "[0, 1, 8]\n"
     ]
    }
   ],
   "source": [
    "start = time.time()\n",
    "results = p.map_async(f, y)\n",
    "end = time.time()\n",
    "print \"map_async\"\n",
    "output = results.get()\n",
    "print \"time\", end-start\n",
    "print output[:3]"
   ]
  },
  {
   "cell_type": "code",
   "execution_count": null,
   "metadata": {
    "collapsed": true
   },
   "outputs": [],
   "source": []
  }
 ],
 "metadata": {
  "kernelspec": {
   "display_name": "Python 2",
   "language": "python",
   "name": "python2"
  },
  "language_info": {
   "codemirror_mode": {
    "name": "ipython",
    "version": 2
   },
   "file_extension": ".py",
   "mimetype": "text/x-python",
   "name": "python",
   "nbconvert_exporter": "python",
   "pygments_lexer": "ipython2",
   "version": "2.7.13"
  }
 },
 "nbformat": 4,
 "nbformat_minor": 2
}
