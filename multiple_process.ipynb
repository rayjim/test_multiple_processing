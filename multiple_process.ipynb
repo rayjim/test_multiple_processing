{
 "cells": [
  {
   "cell_type": "markdown",
   "metadata": {},
   "source": [
    "Example of multiple processing and saving files\n",
    "========================="
   ]
  },
  {
   "cell_type": "code",
   "execution_count": 7,
   "metadata": {
    "collapsed": false
   },
   "outputs": [
    {
     "name": "stdout",
     "output_type": "stream",
     "text": [
      "4288 is working\n",
      "4290 is working\n",
      "4289 is working\n",
      "finished\n"
     ]
    }
   ],
   "source": [
    "import random, os\n",
    "import multiprocessing\n",
    "\n",
    "def list_append(count, out_list):\n",
    "    print os.getpid(), 'is working'\n",
    "    for i in range(count):\n",
    "        out_list.append(random.random())\n",
    "    return out_list\n",
    "\n",
    "size = 1000000\n",
    "procs = 3\n",
    "process_list = []\n",
    "result = []\n",
    "\n",
    "for i in range(0, procs):\n",
    "    out_list = list()\n",
    "    process = multiprocessing.Process(target=list_append, args=(size, out_list))\n",
    "    process_list.append(process)\n",
    "    \n",
    "for p in process_list:\n",
    "    p.start()\n",
    "\n",
    "for p in process_list:\n",
    "    p.join()\n",
    "    \n",
    "print \"finished\"\n",
    "                                "
   ]
  },
  {
   "cell_type": "code",
   "execution_count": 9,
   "metadata": {
    "collapsed": false
   },
   "outputs": [
    {
     "name": "stdout",
     "output_type": "stream",
     "text": [
      "first 2.00100517273\n",
      "working on else\n",
      "working on else\n",
      "working on else\n",
      "working on else\n",
      "2.00096201897\n"
     ]
    }
   ],
   "source": [
    "import time\n",
    "from multiprocessing import Pool\n",
    "\n",
    "def f():\n",
    "    start = time.time()\n",
    "    time.sleep(2)\n",
    "    end = time.time()\n",
    "    return end - start\n",
    "p = Pool(processes=1)\n",
    "\n",
    "result = p.apply(f)\n",
    "print \"first\",result\n",
    "\n",
    "\n",
    "result = p.apply_async(f)\n",
    "while not result.ready():\n",
    "    time.sleep(0.5)\n",
    "    print 'working on else'\n",
    "\n",
    "print result.get() "
   ]
  },
  {
   "cell_type": "markdown",
   "metadata": {},
   "source": [
    "The following is the way to create multiple process (resulted a 5x speedup). \n",
    "----------------------------\n",
    "### 1. using map and collect results later ###\n",
    "### 2. using imap and collect results during the process###\n",
    "### 3. using async and collect results during the process###\n",
    "1 and 3 have somehow similar performance\n",
    "\n"
   ]
  },
  {
   "cell_type": "code",
   "execution_count": 19,
   "metadata": {
    "collapsed": false
   },
   "outputs": [
    {
     "name": "stdout",
     "output_type": "stream",
     "text": [
      "map blocks\n",
      "time 20.0190420151\n"
     ]
    }
   ],
   "source": [
    "import time\n",
    "from multiprocessing import Pool,cpu_count\n",
    "\n",
    "def f(x):\n",
    "    time.sleep(1)\n",
    "    return (x**3)**3\n",
    "fn = '/Users/raybao/Documents/workspace/data_anaysis/temp1.txt'\n",
    "y = range(int(1e2))\n",
    "\n",
    "p = Pool(processes=cpu_count()+2)\n",
    "\n",
    "start = time.time()\n",
    "results = p.map(f, y)\n",
    "\n",
    "print \"map blocks\"\n",
    "\n",
    "with open(fn, 'w') as ff:\n",
    "    for item in results:\n",
    "        ff.write(\"%f¥n\"%item)\n",
    "end = time.time()\n",
    "print \"time\", end-start"
   ]
  },
  {
   "cell_type": "markdown",
   "metadata": {},
   "source": [
    "The following is an example of multiprocessing using imap\n",
    "--------------------\n",
    "\n"
   ]
  },
  {
   "cell_type": "code",
   "execution_count": 6,
   "metadata": {
    "collapsed": false
   },
   "outputs": [
    {
     "name": "stdout",
     "output_type": "stream",
     "text": [
      "time 100.003145933\n",
      "map_async\n"
     ]
    }
   ],
   "source": [
    "def f(x):\n",
    "    time.sleep(10)\n",
    "    return (x**3)**3\n",
    "y = range(int(1e1))\n",
    "fn = '/Users/raybao/Documents/workspace/data_anaysis/temp.txt'\n",
    "start = time.time()\n",
    "with open(fn, 'w') as ff:\n",
    "    for result in p.imap(f, y, chunksize=2):\n",
    "        ff.write(\"%f/n\"%result)\n",
    "end = time.time()\n",
    "print \"time\", end-start\n",
    "print \"map_async\"\n"
   ]
  },
  {
   "cell_type": "markdown",
   "metadata": {},
   "source": [
    "An alternative way to do the job\n",
    "-----------------------"
   ]
  },
  {
   "cell_type": "code",
   "execution_count": 15,
   "metadata": {
    "collapsed": false
   },
   "outputs": [
    {
     "name": "stdout",
     "output_type": "stream",
     "text": [
      "finished\n",
      "time is 20.1237740517\n"
     ]
    }
   ],
   "source": [
    "import multiprocessing as mp\n",
    "import time\n",
    "\n",
    "\n",
    "\n",
    "fn = '/Users/raybao/Documents/workspace/data_anaysis/temp3.txt'\n",
    "\n",
    "\n",
    "def worker(arg, q):\n",
    "    '''stupidly simulates long running process'''\n",
    "    res = (arg**3)**3\n",
    "    q.put(res)\n",
    "    time.sleep(1)\n",
    "    return res\n",
    "\n",
    "def listener(q):\n",
    "    '''listens for messages on the q, writes to file. '''\n",
    "\n",
    "    f = open(fn, 'wb') \n",
    "    while 1:\n",
    "        m = q.get()\n",
    "        f.write(str(m) + '\\n')\n",
    "        f.flush()\n",
    "    f.close()\n",
    "\n",
    "def main():\n",
    "    #must use Manager queue here, or will not work\n",
    "    manager = mp.Manager()\n",
    "    q = manager.Queue()    \n",
    "    pool = mp.Pool(mp.cpu_count() + 2)\n",
    "\n",
    "    #put listener to work first\n",
    "    watcher = pool.apply_async(listener, (q,))\n",
    "\n",
    "    #fire off workers\n",
    "    jobs = []\n",
    "    y = range(int(1e2))\n",
    "    for i in y:\n",
    "        job = pool.apply_async(worker, (i, q))\n",
    "        jobs.append(job)\n",
    "\n",
    "    # collect results from the workers through the pool result queue\n",
    "    for job in jobs: \n",
    "        job.get()\n",
    "\n",
    "    #now we are done, kill the listener\n",
    "    q.put('kill')\n",
    "    pool.close()\n",
    "\n",
    "start = time.time()\n",
    "main()\n",
    "print \"finished\"\n",
    "print \"time is {0}\".format(time.time()-start)"
   ]
  },
  {
   "cell_type": "code",
   "execution_count": null,
   "metadata": {
    "collapsed": true
   },
   "outputs": [],
   "source": []
  }
 ],
 "metadata": {
  "kernelspec": {
   "display_name": "Python 2",
   "language": "python",
   "name": "python2"
  },
  "language_info": {
   "codemirror_mode": {
    "name": "ipython",
    "version": 2
   },
   "file_extension": ".py",
   "mimetype": "text/x-python",
   "name": "python",
   "nbconvert_exporter": "python",
   "pygments_lexer": "ipython2",
   "version": "2.7.13"
  }
 },
 "nbformat": 4,
 "nbformat_minor": 2
}
